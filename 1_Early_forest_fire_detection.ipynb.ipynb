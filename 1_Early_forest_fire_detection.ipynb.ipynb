version https://git-lfs.github.com/spec/v1
oid sha256:ed599cefce1100078f194802801735da188d64fdea4810937a96ab2d47e50364
size 56030425
